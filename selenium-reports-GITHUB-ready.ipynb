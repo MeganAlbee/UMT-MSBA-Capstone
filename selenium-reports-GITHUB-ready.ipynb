{
 "cells": [
  {
   "cell_type": "markdown",
   "id": "9b5cbe9d",
   "metadata": {},
   "source": [
    "# Creating an Auction House Database and ETL Pipelines for Data Analysis\n",
    "#### Version: Selenium 4.3.0 (june 2022)"
   ]
  },
  {
   "cell_type": "markdown",
   "id": "49c63786",
   "metadata": {},
   "source": [
    "# Import libraries"
   ]
  },
  {
   "cell_type": "code",
   "execution_count": null,
   "id": "7bb84c0c",
   "metadata": {},
   "outputs": [],
   "source": [
    "from selenium.webdriver.chrome.service import Service\n",
    "from selenium import webdriver\n",
    "from selenium.webdriver.common.by import By\n",
    "from xpathwebdriver.browser import Browser\n",
    "from selenium.webdriver.support.ui import WebDriverWait\n",
    "from selenium.webdriver.support.select import Select\n",
    "from selenium.webdriver.support import expected_conditions as EC\n",
    "from selenium.webdriver.support.ui import Select\n",
    "from datetime import datetime, timedelta\n",
    "from selenium.common.exceptions import TimeoutException\n",
    "\n",
    "from bs4 import BeautifulSoup \n",
    "import re\n",
    "import pandas as pd\n",
    "import time\n",
    "import pyautogui\n",
    "import os\n",
    "\n",
    "import xlrd\n",
    "import openpyxl\n",
    "from PIL import Image\n",
    "import cv2\n",
    "from pytesseract import image_to_string\n",
    "import pytesseract\n",
    "\n",
    "import janitor\n",
    "\n",
    "# Google Big Query \n",
    "from google.cloud import bigquery\n",
    "from google.oauth2 import service_account\n",
    "import pandas_gbq"
   ]
  },
  {
   "cell_type": "code",
   "execution_count": null,
   "id": "424eff3c",
   "metadata": {
    "scrolled": true
   },
   "outputs": [],
   "source": [
    "# setting the path to the webdriver\n",
    "# webdriver drives the browser natively \n",
    "service = Service(executable_path=\"/path/to/chromedriver\")\n",
    "driver = webdriver.Chrome(service=service)"
   ]
  },
  {
   "cell_type": "code",
   "execution_count": null,
   "id": "fa8ef70c",
   "metadata": {},
   "outputs": [],
   "source": [
    "# create ChromeOptions object\n",
    "options = webdriver.ChromeOptions()\n",
    "\n",
    "# set the download directory\n",
    "prefs = {'download.default_directory' : '/Users/megandba/Desktop/reports'}\n",
    "options.add_experimental_option('prefs', prefs)\n",
    "\n",
    "# create Chrome webdriver\n",
    "driver = webdriver.Chrome(options=options)"
   ]
  },
  {
   "cell_type": "markdown",
   "id": "290d12b8",
   "metadata": {},
   "source": [
    "# Start of Auction Platform Reports\n",
    "\n",
    "Below will be the code that goes through each software and extracts a report. Each software will open a new driver for ease of use between tabs. "
   ]
  },
  {
   "cell_type": "markdown",
   "id": "5f2adc3e",
   "metadata": {},
   "source": [
    "## ProxiBid Platform"
   ]
  },
  {
   "cell_type": "code",
   "execution_count": null,
   "id": "77d37299",
   "metadata": {},
   "outputs": [],
   "source": [
    "#navigate to proxibid website\n",
    "prefs = {'download.default_directory' : '/Users/megandba/Desktop/analytics'}\n",
    "options.add_experimental_option('prefs', prefs)\n",
    "\n",
    "# create Chrome webdriver\n",
    "driver = webdriver.Chrome(options=options)\n",
    "driver.get(\"https://www.proxibid.com/asp/LoginAuctioneer.asp\")"
   ]
  },
  {
   "cell_type": "code",
   "execution_count": null,
   "id": "917481af",
   "metadata": {},
   "outputs": [],
   "source": [
    "#this is for the page to load and elements to populate\n",
    "#not the best solution for easiest waiting strategy\n",
    "driver.implicitly_wait(0.5)"
   ]
  },
  {
   "cell_type": "code",
   "execution_count": null,
   "id": "3de74164",
   "metadata": {},
   "outputs": [],
   "source": [
    "#login into website\n",
    "username_field = driver.find_element(By.ID, \"auctioneerUsername\")\n",
    "username_field.send_keys(\"ENTER-USERNAME)\n",
    "\n",
    "password_field = driver.find_element(By.ID, \"auctioneerPassword\")\n",
    "password_field.send_keys(\"ENTER-PASSWORD\")\n",
    "\n",
    "element = WebDriverWait(driver, 10).until(\n",
    "        lambda driver: driver.find_element(By.ID,'auctioneerLoginSubmitButton').is_enabled()\n",
    "    )\n",
    "\n",
    "driver.find_element(By.ID,\"auctioneerLoginSubmitButton\").click()\n"
   ]
  },
  {
   "cell_type": "code",
   "execution_count": null,
   "id": "3ce9afb4",
   "metadata": {},
   "outputs": [],
   "source": [
    "driver.implicitly_wait(2)"
   ]
  },
  {
   "cell_type": "code",
   "execution_count": null,
   "id": "daa3d6d8",
   "metadata": {},
   "outputs": [],
   "source": [
    "event_numbers = []\n",
    "# read in the divs\n",
    "divs = driver.find_elements(By.CSS_SELECTOR, 'div[class^=\"event\"]')\n",
    "\n",
    "# Loop through each div element\n",
    "for div in divs:\n",
    "    # Extract the date from the span element inside the div\n",
    "    date_str = div.find_element(By.TAG_NAME, 'span').text\n",
    "    # Convert the date to a datetime object\n",
    "    date_obj = datetime.strptime(date_str, '%A, %B %d, %Y')\n",
    "    # Get the current date and time\n",
    "    now = datetime.now()\n",
    "    # Calculate the difference between the current date and the date of the div\n",
    "    diff = now - date_obj\n",
    "    # Check if the difference is less than or equal to 14 days\n",
    "    if diff <= timedelta(days=18):\n",
    "        # Extract the event number from the div class\n",
    "        event_number = div.get_attribute(\"class\").split(\"event\")[1]\n",
    "        event_numbers.append(event_number)\n",
    "\n",
    "# Click on the second link in the event_numbers list\n",
    "for index, event_number in enumerate(event_numbers):\n",
    "    if index == 0 :\n",
    "        link = f\"Invoicing.asp?aid={event_number}\"\n",
    "        driver.find_element(By.CSS_SELECTOR, f\"a[href='{link}']\").click()\n",
    "        break"
   ]
  },
  {
   "cell_type": "code",
   "execution_count": null,
   "id": "780d57b2",
   "metadata": {},
   "outputs": [],
   "source": [
    "#this clicks the master list\n",
    "masterlist = driver.find_element(By.CSS_SELECTOR,\"svg[data-testid='SummarizeIcon']\")\n",
    "masterlist.click()"
   ]
  },
  {
   "cell_type": "code",
   "execution_count": null,
   "id": "19e318b4",
   "metadata": {},
   "outputs": [],
   "source": [
    "#switches to most recent tab. This is needed.\n",
    "driver.switch_to.window(driver.window_handles[1])"
   ]
  },
  {
   "cell_type": "code",
   "execution_count": null,
   "id": "48875dfa",
   "metadata": {},
   "outputs": [],
   "source": [
    "#Downloads the file into the downloads section\n",
    "WebDriverWait(driver, 6).until(EC.element_to_be_clickable((By.PARTIAL_LINK_TEXT, \"here\"))).click()"
   ]
  },
  {
   "cell_type": "code",
   "execution_count": null,
   "id": "5125a294",
   "metadata": {},
   "outputs": [],
   "source": [
    "#switches to most recent tab. This is needed.\n",
    "driver.switch_to.window(driver.window_handles[0])"
   ]
  },
  {
   "cell_type": "code",
   "execution_count": null,
   "id": "8f8a365e",
   "metadata": {},
   "outputs": [],
   "source": [
    "link_element = driver.find_element(By.CSS_SELECTOR, \"a[href='https://www.proxibid.com/asp/Auctioneer/AuctioneerHome.asp'] img[alt='Auction Builder']\")\n",
    "link_element.click()\n"
   ]
  },
  {
   "cell_type": "code",
   "execution_count": null,
   "id": "ee4e6f69",
   "metadata": {},
   "outputs": [],
   "source": [
    "event_numbers = []\n",
    "# read in the divs\n",
    "divs = driver.find_elements(By.CSS_SELECTOR, 'div[class^=\"event\"]')\n",
    "\n",
    "# Loop through each div element\n",
    "for div in divs:\n",
    "    # Extract the date from the span element inside the div\n",
    "    date_str = div.find_element(By.TAG_NAME, 'span').text\n",
    "    # Convert the date to a datetime object\n",
    "    date_obj = datetime.strptime(date_str, '%A, %B %d, %Y')\n",
    "    # Get the current date and time\n",
    "    now = datetime.now()\n",
    "    # Calculate the difference between the current date and the date of the div\n",
    "    diff = now - date_obj\n",
    "    # Check if the difference is less than or equal to 14 days\n",
    "    if diff <= timedelta(days=18):\n",
    "        # Extract the event number from the div class\n",
    "        event_number = div.get_attribute(\"class\").split(\"event\")[1]\n",
    "        event_numbers.append(event_number)\n",
    "\n",
    "# Click on the second link in the event_numbers list\n",
    "for index, event_number in enumerate(event_numbers):\n",
    "    if index == 1 :\n",
    "        link = f\"Invoicing.asp?aid={event_number}\"\n",
    "        driver.find_element(By.CSS_SELECTOR, f\"a[href='{link}']\").click()\n",
    "        break"
   ]
  },
  {
   "cell_type": "code",
   "execution_count": null,
   "id": "27e32141",
   "metadata": {},
   "outputs": [],
   "source": [
    "#this clicks the master list\n",
    "masterlist = driver.find_element(By.CSS_SELECTOR,\"svg[data-testid='SummarizeIcon']\")\n",
    "masterlist.click()"
   ]
  },
  {
   "cell_type": "code",
   "execution_count": null,
   "id": "22c1204f",
   "metadata": {},
   "outputs": [],
   "source": [
    "#switches to most recent tab. This is needed.\n",
    "driver.switch_to.window(driver.window_handles[2])"
   ]
  },
  {
   "cell_type": "code",
   "execution_count": null,
   "id": "ebe78af4",
   "metadata": {},
   "outputs": [],
   "source": [
    "#Downloads the file into the downloads section\n",
    "WebDriverWait(driver, 6).until(EC.element_to_be_clickable((By.PARTIAL_LINK_TEXT, \"here\"))).click()"
   ]
  },
  {
   "cell_type": "code",
   "execution_count": null,
   "id": "b21e9649",
   "metadata": {},
   "outputs": [],
   "source": [
    "#switches to most recent tab. This is needed.\n",
    "driver.switch_to.window(driver.window_handles[0])"
   ]
  },
  {
   "cell_type": "code",
   "execution_count": null,
   "id": "acbc8ed8",
   "metadata": {},
   "outputs": [],
   "source": [
    "link_element = driver.find_element(By.CSS_SELECTOR, \"a[href='https://www.proxibid.com/asp/Auctioneer/AuctioneerHome.asp'] img[alt='Auction Builder']\")\n",
    "link_element.click()\n"
   ]
  },
  {
   "cell_type": "code",
   "execution_count": null,
   "id": "b61c6c08",
   "metadata": {},
   "outputs": [],
   "source": [
    "event_numbers = []\n",
    "# read in the divs\n",
    "divs = driver.find_elements(By.CSS_SELECTOR, 'div[class^=\"event\"]')\n",
    "\n",
    "# Loop through each div element\n",
    "for div in divs:\n",
    "    # Extract the date from the span element inside the div\n",
    "    date_str = div.find_element(By.TAG_NAME, 'span').text\n",
    "    # Convert the date to a datetime object\n",
    "    date_obj = datetime.strptime(date_str, '%A, %B %d, %Y')\n",
    "    # Get the current date and time\n",
    "    now = datetime.now()\n",
    "    # Calculate the difference between the current date and the date of the div\n",
    "    diff = now - date_obj\n",
    "    # Check if the difference is less than or equal to 14 days\n",
    "    if diff <= timedelta(days=18):\n",
    "        # Extract the event number from the div class\n",
    "        event_number = div.get_attribute(\"class\").split(\"event\")[1]\n",
    "        event_numbers.append(event_number)\n",
    "\n",
    "# Click on the second link in the event_numbers list\n",
    "for index, event_number in enumerate(event_numbers):\n",
    "    if index == 2  :\n",
    "        link = f\"Invoicing.asp?aid={event_number}\"\n",
    "        driver.find_element(By.CSS_SELECTOR, f\"a[href='{link}']\").click()\n",
    "        break"
   ]
  },
  {
   "cell_type": "code",
   "execution_count": null,
   "id": "70c79ed3",
   "metadata": {},
   "outputs": [],
   "source": [
    "#this clicks the master list\n",
    "masterlist = driver.find_element(By.CSS_SELECTOR,\"svg[data-testid='SummarizeIcon']\")\n",
    "masterlist.click()"
   ]
  },
  {
   "cell_type": "code",
   "execution_count": null,
   "id": "7e4d28a3",
   "metadata": {},
   "outputs": [],
   "source": [
    "#switches to most recent tab. This is needed.\n",
    "driver.switch_to.window(driver.window_handles[3])"
   ]
  },
  {
   "cell_type": "code",
   "execution_count": null,
   "id": "60b6a29e",
   "metadata": {},
   "outputs": [],
   "source": [
    "#Downloads the file into the downloads section\n",
    "WebDriverWait(driver, 6).until(EC.element_to_be_clickable((By.PARTIAL_LINK_TEXT, \"here\"))).click()"
   ]
  },
  {
   "cell_type": "code",
   "execution_count": null,
   "id": "c555409f",
   "metadata": {},
   "outputs": [],
   "source": [
    "#switches to most recent tab. This is needed.\n",
    "driver.switch_to.window(driver.window_handles[0])"
   ]
  },
  {
   "cell_type": "markdown",
   "id": "051b45d9",
   "metadata": {},
   "source": [
    "## Invaluable Auction Platform"
   ]
  },
  {
   "cell_type": "code",
   "execution_count": null,
   "id": "dd839658",
   "metadata": {},
   "outputs": [],
   "source": [
    "# create ChromeOptions object\n",
    "options = webdriver.ChromeOptions()\n",
    "\n",
    "# set the download directory\n",
    "prefs = {'download.default_directory' : '/Users/megandba/Desktop/analytics'}\n",
    "options.add_experimental_option('prefs', prefs)\n",
    "\n",
    "# create Chrome webdriver\n",
    "driver = webdriver.Chrome(options=options)"
   ]
  },
  {
   "cell_type": "code",
   "execution_count": null,
   "id": "605083c2",
   "metadata": {},
   "outputs": [],
   "source": [
    "#navigate to proxibid website\n",
    "driver.get(\"https://www.invaluableauctions.com/index.cfm\")"
   ]
  },
  {
   "cell_type": "code",
   "execution_count": null,
   "id": "d2410e72",
   "metadata": {},
   "outputs": [],
   "source": [
    "#this is for the page to load and elements to populate\n",
    "#not the best solution for easiest waiting strategy\n",
    "driver.implicitly_wait(0.5)"
   ]
  },
  {
   "cell_type": "code",
   "execution_count": null,
   "id": "d014b851",
   "metadata": {},
   "outputs": [],
   "source": [
    "#Login to Invaluable \n",
    "\n",
    "#house ID \n",
    "House_ID_element = driver.find_element(By.NAME, 'houseName')\n",
    "House_ID_element.send_keys('ENTER-AUCTION-HOUSE')\n",
    "\n",
    "#username\n",
    "username_element = driver.find_element(By.NAME, 'username')\n",
    "username_element.send_keys('ENTER-USERNAME')\n",
    "\n",
    "#password\n",
    "pword_element = driver.find_element(By.NAME, 'password')\n",
    "pword_element.send_keys('ENTER-PASSWORD')\n",
    "\n",
    "#click login with lag built in \n",
    "element = WebDriverWait(driver, 10).until(\n",
    "        lambda driver: driver.find_element(By.NAME,'Submit').is_enabled()\n",
    "    )\n",
    "\n",
    "driver.find_element(By.NAME,\"Submit\").click()"
   ]
  },
  {
   "cell_type": "code",
   "execution_count": null,
   "id": "07f6e025",
   "metadata": {},
   "outputs": [],
   "source": [
    "#get past the intro page by clicking continue\n",
    "#click login with lag built in \n",
    "element = WebDriverWait(driver, 10).until(\n",
    "        lambda driver: driver.find_element(By.ID,'continue').is_enabled()\n",
    "    )\n",
    "\n",
    "driver.find_element(By.ID,\"continue\").click()"
   ]
  },
  {
   "cell_type": "code",
   "execution_count": null,
   "id": "b57b076c",
   "metadata": {},
   "outputs": [],
   "source": [
    "#click on the reports in the menu\n",
    "driver.find_element(By.LINK_TEXT,\"Reports\").click()\n",
    "\n",
    "#click the sub-menu \"sale Results\" tab\n",
    "driver.find_element(By.LINK_TEXT,\"Sale Results\").click()"
   ]
  },
  {
   "cell_type": "code",
   "execution_count": null,
   "id": "922f3ea6",
   "metadata": {},
   "outputs": [],
   "source": [
    "#in this version we are trying to pull from a specific timeframe to get the old auction and test this function\n",
    "\n",
    "# Get dates in range\n",
    "end_date = datetime.datetime.now()  # Current date\n",
    "start_date = end_date - datetime.timedelta(days=14)  # Subtract 14 days\n",
    "\n",
    "\n",
    "rows = driver.find_elements(By.CSS_SELECTOR, 'tbody > tr')\n",
    "for row in rows : \n",
    "    # get the dates for the rows\n",
    "    date_string = row.find_elements(By.CSS_SELECTOR,'.dateCell')[0].text\n",
    "    # remove the hour, minute and timezone\n",
    "    date_string = date_string.split(' ')[0]\n",
    "    # convert to datetime object\n",
    "    date_object = datetime.strptime(date_string, '%m/%d/%Y')\n",
    "    #check to see if the date is within two weeks\n",
    "    if date_object >= start_date and date_object <= end_date : \n",
    "        row.find_elements(By.CSS_SELECTOR, \".js-sessionCheckbox\")[0].click()"
   ]
  },
  {
   "cell_type": "code",
   "execution_count": null,
   "id": "f024bd72",
   "metadata": {},
   "outputs": [],
   "source": [
    "#click the view selected button\n",
    "view_selected_button = WebDriverWait(driver, 10).until(EC.element_to_be_clickable((By.CLASS_NAME, \"js-viewSelectedSessionsButton\")))\n",
    "view_selected_button.click()"
   ]
  },
  {
   "cell_type": "code",
   "execution_count": null,
   "id": "62a54c74",
   "metadata": {},
   "outputs": [],
   "source": [
    "#Click on the format for spreadsheet \n",
    "#this then downloads the spreadsheet\n",
    "driver.find_element(By.LINK_TEXT,\"Format for spreadsheet\").click()"
   ]
  },
  {
   "cell_type": "code",
   "execution_count": null,
   "id": "148c2c1f",
   "metadata": {},
   "outputs": [],
   "source": [
    "#click over to the Auctions/Sales tab on the main bar\n",
    "driver.find_element(By.LINK_TEXT,\"Auctions / Sales\").click()"
   ]
  },
  {
   "cell_type": "code",
   "execution_count": null,
   "id": "4fa093eb",
   "metadata": {},
   "outputs": [],
   "source": [
    "#click the bubble for the past auction\n",
    "\n",
    "driver.find_element(By.XPATH, \"//input[@name='upcomingPastRadio']//following::label[1]\").click()"
   ]
  },
  {
   "cell_type": "code",
   "execution_count": null,
   "id": "0129f151",
   "metadata": {
    "scrolled": true
   },
   "outputs": [],
   "source": [
    "#click cells within our timeframe\n",
    "date_cells = driver.find_elements(By.XPATH, \"//span[contains(text(), 'MST')]\")\n",
    "\n",
    "end_date = datetime.datetime.now()  # Current date\n",
    "start_date = end_date - datetime.timedelta(days=14)  # Subtract 14 days\n",
    "\n",
    "valid_date_cells = [cell for cell in date_cells if start_date <= datetime.strptime(cell.text, '%a, %b %d %Y %H:%M %Z') <= end_date]\n",
    "\n",
    "for cell in valid_date_cells:\n",
    "    # select the dropdown and click on \"manage invoices\"\n",
    "    dropdown_btn = cell.find_element(By.XPATH, \"../..//button[@class='dropdown-toggle btn btn-white']\")\n",
    "    dropdown_btn.click()\n",
    "    manage_invoices_btn = driver.find_element(By.LINK_TEXT, \"Manage invoices\")\n",
    "    manage_invoices_btn.click()\n",
    "    break"
   ]
  },
  {
   "cell_type": "code",
   "execution_count": null,
   "id": "a975bf3e",
   "metadata": {},
   "outputs": [],
   "source": [
    "#check the check all button top left grid\n",
    "driver.find_elements(By.CSS_SELECTOR, \".js-selectAllCheckbox\")[0].click()"
   ]
  },
  {
   "cell_type": "code",
   "execution_count": null,
   "id": "f11deb5b",
   "metadata": {},
   "outputs": [],
   "source": [
    "#Select the view details button\n",
    "view_details_button = driver.find_element(By.XPATH, \"//button[contains(text(),'View Details')]\")\n",
    "\n",
    "view_details_button.click()"
   ]
  },
  {
   "cell_type": "code",
   "execution_count": null,
   "id": "a8471d59",
   "metadata": {},
   "outputs": [],
   "source": [
    "time.sleep(30)"
   ]
  },
  {
   "cell_type": "code",
   "execution_count": null,
   "id": "3394ba6b",
   "metadata": {},
   "outputs": [],
   "source": [
    "# this will take about 2:30 minutes to run\n",
    "# read in the html page with selenium \n",
    "html = driver.page_source\n",
    "\n",
    "# set soup to the above html \n",
    "soup = BeautifulSoup(html, 'html.parser')\n",
    "\n",
    "# Create a list of dictionaries that contains the values \n",
    "invoice_list = []\n",
    "\n",
    "# create a list of invoice numbers \n",
    "invoice_nums = soup.find_all('li', attrs={'class': 'bold'})\n",
    "\n",
    "\n",
    "# with our list of invoices, we will loop through them and pull the information that matches. \n",
    "for invoice_num in invoice_nums :\n",
    "    \n",
    "    # Get invoice number as a string\n",
    "    invoice_num = str(invoice_num.text.strip('-'))\n",
    "    \n",
    "    # get full name\n",
    "    bidder_name = soup.find('a', {'name': 'inv' + invoice_num}).find_next('a').text.strip()\n",
    "\n",
    "    # Paddle Number\n",
    "    bidder_number = soup.find('a', {'name': 'inv' + invoice_num }).find_next('a').nextSibling.text.strip()\n",
    "\n",
    "    # total hammer price\n",
    "    totalHammerElem = soup.find('td', attrs={'class': 'bold totalHammer totalCell-' + invoice_num, 'id': 'totalHammer-' + invoice_num})\n",
    "    totalHammer = totalHammerElem.text if totalHammerElem is not None else ''\n",
    "    \n",
    "    # total bidder price\n",
    "    totalBpElem = soup.find('td', attrs={'class': 'bold totalBp totalCell-' + invoice_num, 'id': 'totalBp-' + invoice_num})\n",
    "    totalBp = totalBpElem.text if totalBpElem is not None else ''\n",
    "    \n",
    "    # live fee\n",
    "    totalLiveFeeElem = soup.find('td', attrs={'class': 'bold totalLiveFee totalCell-' + invoice_num, 'id': 'totalLiveFee-' + invoice_num})\n",
    "    totalLiveFee = totalLiveFeeElem.text if totalLiveFeeElem is not None else ''\n",
    "    \n",
    "    # We need this line below \n",
    "    totalShippingInputElem = soup.find('input', attrs={'id': 'totalShippingInput-' + invoice_num})\n",
    "    \n",
    "    # this could be redundant \n",
    "    totalShippingInput = totalShippingInputElem['value'] if totalShippingInputElem is not None else ''\n",
    "    \n",
    "    # total shipping code. This is needed because the last cell of the page is a different code call. \n",
    "    if totalShippingInputElem is not None and totalShippingInputElem['value'] != '':\n",
    "        totalShippingInput = totalShippingInputElem['value']\n",
    "    else:\n",
    "        totalSH = soup.find('span', attrs={'id': 'totalSH-' + invoice_num})\n",
    "        totalShippingInput = totalSH.text if totalSH is not None else ''\n",
    "\n",
    "\n",
    "    # total tax\n",
    "    totalTaxInputElem = soup.find('input', attrs={'id': 'totalTaxInput-' + invoice_num})\n",
    "    totalTaxInput = totalTaxInputElem['value'] if totalTaxInputElem is not None else ''\n",
    "    \n",
    "    # insurance \n",
    "    totalInsuranceInputElem = soup.find('input', attrs={'id': 'totalInsuranceInput-' + invoice_num})\n",
    "    totalInsuranceInput = totalInsuranceInputElem['value'] if totalInsuranceInputElem is not None else ''\n",
    "    \n",
    "    # any other fee in other column \n",
    "    totalOtherInputElem = soup.find('input', attrs={'id': 'totalOtherInput-' + invoice_num})\n",
    "    totalOtherInput = totalOtherInputElem['value'] if totalOtherInputElem is not None else ''\n",
    "    \n",
    "    # total for everything \n",
    "    totalCellElem = soup.find('td', attrs={'class': 'bold totalCell-' + invoice_num})\n",
    "    totalCell = totalCellElem['value'] if totalCellElem is not None else ''\n",
    "    \n",
    "    # Append values to invoice_list\n",
    "    invoice_list.append({\n",
    "        'name' : bidder_name,\n",
    "        'invoice_num': invoice_num,\n",
    "        #if this breaks take out the # and the plus\n",
    "        'paddle_#': '#'+ bidder_number,\n",
    "        'totalHammer': totalHammer,\n",
    "        'totalBp': totalBp,\n",
    "        'totalLiveFee': totalLiveFee,\n",
    "        'totalShippingInput': totalShippingInput,\n",
    "        'totalTaxInput': totalTaxInput,\n",
    "        'totalInsuranceInput': totalInsuranceInput,\n",
    "        'totalOtherInput': totalOtherInput,\n",
    "        'totalCell': totalCell\n",
    "    })\n",
    "    \n",
    "# Create a dataframe from the list of dictionaries\n",
    "df = pd.DataFrame(invoice_list)"
   ]
  },
  {
   "cell_type": "code",
   "execution_count": null,
   "id": "1f796e40",
   "metadata": {},
   "outputs": [],
   "source": [
    "df.to_csv('invaluable_wepage_prices.csv')"
   ]
  },
  {
   "cell_type": "markdown",
   "id": "79ff3088",
   "metadata": {},
   "source": [
    "## iCollector Auction Platform"
   ]
  },
  {
   "cell_type": "code",
   "execution_count": null,
   "id": "716db8f2",
   "metadata": {},
   "outputs": [],
   "source": [
    "# create ChromeOptions object\n",
    "options = webdriver.ChromeOptions()\n",
    "\n",
    "# set the download directory\n",
    "prefs = {'download.default_directory' : '/Users/megandba/Desktop/analytics'}\n",
    "options.add_experimental_option('prefs', prefs)\n",
    "\n",
    "# create Chrome webdriver\n",
    "driver = webdriver.Chrome(options=options)"
   ]
  },
  {
   "cell_type": "code",
   "execution_count": null,
   "id": "7cebdd41",
   "metadata": {},
   "outputs": [],
   "source": [
    "#navigate to icollector website\n",
    "driver.get(\"https://admin.liveauctiongroup.com/login.aspx?ReturnUrl=%2f\")"
   ]
  },
  {
   "cell_type": "code",
   "execution_count": null,
   "id": "c36335b1",
   "metadata": {},
   "outputs": [],
   "source": [
    "#this is for the page to load and elements to populate\n",
    "#not the best solution for easiest waiting strategy\n",
    "driver.implicitly_wait(0.5)"
   ]
  },
  {
   "cell_type": "code",
   "execution_count": null,
   "id": "531eac97",
   "metadata": {},
   "outputs": [],
   "source": [
    "#Login to iCollector \n",
    "\n",
    "#username\n",
    "username_element = driver.find_element(By.ID, 'txtUsername')\n",
    "username_element.send_keys('ENTER-USERNAME')\n",
    "\n",
    "#password\n",
    "pword_element = driver.find_element(By.ID, 'txtPassword')\n",
    "pword_element.send_keys('ENTER-PASSWORD')\n",
    "\n",
    "#click login with lag built in \n",
    "element = WebDriverWait(driver, 10).until(\n",
    "        lambda driver: driver.find_element(By.ID,'btnLogin').is_enabled()\n",
    "    )\n",
    "\n",
    "driver.find_element(By.ID,\"btnLogin\").click()"
   ]
  },
  {
   "cell_type": "code",
   "execution_count": null,
   "id": "d3f9fcce",
   "metadata": {},
   "outputs": [],
   "source": [
    "# click auctions\n",
    "driver.find_element(By.LINK_TEXT,\"auctions\").click()"
   ]
  },
  {
   "cell_type": "code",
   "execution_count": null,
   "id": "75655572",
   "metadata": {},
   "outputs": [],
   "source": [
    "# Click All Auctions\n",
    "driver.find_element(By.LINK_TEXT, \"All Auctions\").click()\n"
   ]
  },
  {
   "cell_type": "code",
   "execution_count": null,
   "id": "23a18f87",
   "metadata": {},
   "outputs": [],
   "source": [
    "# Click 100 to view all auctions on page\n",
    "driver.find_element(By.LINK_TEXT, \"100\").click()\n"
   ]
  },
  {
   "cell_type": "code",
   "execution_count": null,
   "id": "2e54abbb",
   "metadata": {
    "scrolled": true
   },
   "outputs": [],
   "source": [
    "# click the auction within the specific date\n",
    "start_date = datetime(2023, 1, 24)\n",
    "end_date = datetime(2023, 1, 30)\n",
    "\n",
    "rows = driver.find_elements(By.TAG_NAME, \"tr\")\n",
    "\n",
    "for row in rows:\n",
    "    cols = row.find_elements(By.TAG_NAME, \"td\")\n",
    "    if len(cols) >= 3:\n",
    "        date_str = cols[2].text.split(\" @ \")[0]\n",
    "        date = datetime.strptime(date_str, '%Y %b %d')\n",
    "        if start_date <= date <= end_date:\n",
    "            link = cols[0].find_element(By.TAG_NAME, \"a\")\n",
    "            link.click()\n",
    "            break\n"
   ]
  },
  {
   "cell_type": "code",
   "execution_count": null,
   "id": "291156ed",
   "metadata": {},
   "outputs": [],
   "source": [
    "# click invoicing\n",
    "driver.find_element(By.LINK_TEXT, \"invoicing\").click()"
   ]
  },
  {
   "cell_type": "code",
   "execution_count": null,
   "id": "5cbf8ac3",
   "metadata": {},
   "outputs": [],
   "source": [
    "# remove session filtering\n",
    "driver.find_element(By.ID, \"cphBody_aRemoveSessionFilter\").click()"
   ]
  },
  {
   "cell_type": "code",
   "execution_count": null,
   "id": "1f3167e1",
   "metadata": {},
   "outputs": [],
   "source": [
    "# Click All Invoices in Auction (as Quickbooks File) to download spreadsheet #1\n",
    "driver.find_element(By.LINK_TEXT, \"All Invoices in Auction (as Quickbooks File)\").click()"
   ]
  },
  {
   "cell_type": "code",
   "execution_count": null,
   "id": "8a68170d",
   "metadata": {},
   "outputs": [],
   "source": [
    "# click reports\n",
    "driver.find_element(By.LINK_TEXT, \"reports\").click()"
   ]
  },
  {
   "cell_type": "code",
   "execution_count": null,
   "id": "6e2a801e",
   "metadata": {},
   "outputs": [],
   "source": [
    "element = driver.find_element(By.XPATH, '//td/a[@href=\"downloads/invoicessummaryall.ashx?a=59053\"]')\n",
    "element.click()"
   ]
  },
  {
   "cell_type": "markdown",
   "id": "c7d922a9",
   "metadata": {},
   "source": [
    "## LiveAuctioneers Platform"
   ]
  },
  {
   "cell_type": "code",
   "execution_count": null,
   "id": "f517f604",
   "metadata": {},
   "outputs": [],
   "source": [
    "options = webdriver.ChromeOptions()\n",
    "\n",
    "# set the download directory\n",
    "prefs = {'download.default_directory' : '/Users/megandba/Desktop/analytics'}\n",
    "options.add_experimental_option('prefs', prefs)\n",
    "\n",
    "# create Chrome webdriver\n",
    "driver = webdriver.Chrome(options=options)\n",
    "#navigate to liveauctioneers website\n",
    "driver.get(\"https://partners.liveauctioneers.com/login\")"
   ]
  },
  {
   "cell_type": "code",
   "execution_count": null,
   "id": "ed02933b",
   "metadata": {},
   "outputs": [],
   "source": [
    "#Login to LiveAuctioneers \n",
    "\n",
    "#username\n",
    "username_element = driver.find_element(By.ID, 'username')\n",
    "username_element.send_keys('ENTER-USERNAME')\n",
    "\n",
    "#password\n",
    "pword_element = driver.find_element(By.ID, 'password')\n",
    "pword_element.send_keys('ENTER-PASSWORD')\n",
    "time.sleep(2)\n",
    "#click login with lag built in \n",
    "login_button = driver.find_element(By.XPATH, '//button[@data-testid=\"button\" and contains(., \"Log In\")]')\n",
    "login_button.click()"
   ]
  },
  {
   "cell_type": "code",
   "execution_count": null,
   "id": "80330f09",
   "metadata": {},
   "outputs": [],
   "source": [
    "# #click Auctions in main menu\n",
    "link = driver.find_element(By.LINK_TEXT, 'Auctions ▾')\n",
    "link.click()"
   ]
  },
  {
   "cell_type": "code",
   "execution_count": null,
   "id": "37ac5e38",
   "metadata": {},
   "outputs": [],
   "source": [
    "#click the post auction button \n",
    "driver.find_element(By.LINK_TEXT, \"Post Auction\").click()"
   ]
  },
  {
   "cell_type": "code",
   "execution_count": null,
   "id": "50229eda",
   "metadata": {},
   "outputs": [],
   "source": [
    "# click the auction within the specific date\n",
    "end_date = datetime.datetime.now()  # Current date\n",
    "start_date = end_date - datetime.timedelta(days=14)  # Subtract 14 days\n",
    "\n",
    "# Get the table\n",
    "table = driver.find_element(By.TAG_NAME, \"table\")\n",
    "\n",
    "# Get the rows in the table\n",
    "rows = table.find_elements(By.TAG_NAME, \"tr\")\n",
    "\n",
    "# Iterate through the rows\n",
    "for row in rows:\n",
    "    # Get the cells in the row\n",
    "    cells = row.find_elements(By.TAG_NAME, \"td\")\n",
    "    # Check if the row contains any cells\n",
    "    if len(cells) > 0:\n",
    "        # Check if the first cell contains a date within the specified range\n",
    "        if start_date <= datetime.strptime(cells[0].text, '%Y-%m-%d %I:%M%p') <= end_date:\n",
    "            # Get the link element in the second cell\n",
    "            link = cells[1].find_element(By.TAG_NAME, \"a\")\n",
    "            # Click the link\n",
    "            link.click()\n",
    "            # Break out of the loop\n",
    "            break"
   ]
  },
  {
   "cell_type": "code",
   "execution_count": null,
   "id": "3303045a",
   "metadata": {},
   "outputs": [],
   "source": [
    "# click the EOA\n",
    "driver.find_element(By.LINK_TEXT, \"EOA\").click()"
   ]
  },
  {
   "cell_type": "code",
   "execution_count": null,
   "id": "4271ac27",
   "metadata": {},
   "outputs": [],
   "source": [
    "# click full report to download file\n",
    "driver.find_element(By.LINK_TEXT, \"Full Report\").click()"
   ]
  },
  {
   "cell_type": "code",
   "execution_count": null,
   "id": "1de8c3c4",
   "metadata": {},
   "outputs": [],
   "source": [
    "# click the Invoices tab\n",
    "driver.find_element(By.LINK_TEXT, 'Invoices').click()"
   ]
  },
  {
   "cell_type": "code",
   "execution_count": null,
   "id": "73b9394d",
   "metadata": {},
   "outputs": [],
   "source": [
    "# set up the soup\n",
    "# read in the html page with selenium \n",
    "html = driver.page_source\n",
    "\n",
    "# Parse the HTML using Beautiful Soup\n",
    "soup = BeautifulSoup(html, 'html.parser')\n"
   ]
  },
  {
   "cell_type": "code",
   "execution_count": null,
   "id": "7478b1b7",
   "metadata": {
    "scrolled": true
   },
   "outputs": [],
   "source": [
    "# Get the headers\n",
    "heads = []\n",
    "header = soup.find_all(\"table\")[4].find(\"tr\")\n",
    " \n",
    "for items in header:\n",
    "    if items.get_text().strip():  # check if not empty\n",
    "        heads.append(items.get_text())\n",
    "        \n",
    "heads = [head.strip('\\n') for head in heads]"
   ]
  },
  {
   "cell_type": "code",
   "execution_count": null,
   "id": "fa18cade",
   "metadata": {},
   "outputs": [],
   "source": [
    "table_rows = soup.find_all('table')[4].find_all('tr')\n",
    "\n",
    "data = []\n",
    "\n",
    "for tr in table_rows:\n",
    "    td = tr.find_all('td')\n",
    "    row = [tr.text for tr in td]\n",
    "    data.append(row)"
   ]
  },
  {
   "cell_type": "code",
   "execution_count": null,
   "id": "0d4ff407",
   "metadata": {
    "scrolled": true
   },
   "outputs": [],
   "source": [
    "# write data to df\n",
    "dataFrame = pd.DataFrame(data = data, columns = heads)"
   ]
  },
  {
   "cell_type": "code",
   "execution_count": null,
   "id": "aefaf20b",
   "metadata": {},
   "outputs": [],
   "source": [
    "#write the file out to the page title \n",
    "page_title = driver.find_element(By.ID, \"pagetitle\").text\n",
    "page_title = page_title.replace(' ', '')\n",
    "page_title = page_title.replace('-', '')\n",
    "\n",
    "dataFrame.to_csv(page_title + \"LA.csv\")"
   ]
  },
  {
   "cell_type": "code",
   "execution_count": null,
   "id": "fbed451f",
   "metadata": {},
   "outputs": [],
   "source": [
    "# #click Auctions in main menu\n",
    "link = driver.find_element(By.LINK_TEXT, 'Auctions ▾')\n",
    "link.click()"
   ]
  },
  {
   "cell_type": "code",
   "execution_count": null,
   "id": "e3feaabe",
   "metadata": {},
   "outputs": [],
   "source": [
    "#click the post auction button \n",
    "driver.find_element(By.LINK_TEXT, \"Post Auction\").click()"
   ]
  },
  {
   "cell_type": "code",
   "execution_count": null,
   "id": "533d79a4",
   "metadata": {},
   "outputs": [],
   "source": [
    "start_date = datetime(2023, 1, 24)\n",
    "end_date = datetime(2023, 1, 30)\n",
    "\n",
    "# Initialize a counter\n",
    "counter = 0\n",
    "\n",
    "# Get the table\n",
    "table = driver.find_element(By.TAG_NAME, \"table\")\n",
    "\n",
    "# Get the rows in the table\n",
    "rows = table.find_elements(By.TAG_NAME, \"tr\")\n",
    "\n",
    "# Iterate through the rows\n",
    "for row in rows:\n",
    "    # Get the cells in the row\n",
    "    cells = row.find_elements(By.TAG_NAME, \"td\")\n",
    "    # Check if the row contains any cells\n",
    "    if len(cells) > 0:\n",
    "        # Check if the first cell contains a date within the specified range\n",
    "        if start_date <= datetime.strptime(cells[0].text, '%Y-%m-%d %I:%M%p') <= end_date:\n",
    "            \n",
    "            #set up a counter\n",
    "            counter += 1\n",
    "            \n",
    "            #make it select the second date match\n",
    "            if counter == 2 : \n",
    "            \n",
    "                # Get the link element in the second cell\n",
    "                link = cells[1].find_element(By.TAG_NAME, \"a\")\n",
    "                # Click the link\n",
    "                link.click()\n",
    "                # Break out of the loop\n",
    "                break"
   ]
  },
  {
   "cell_type": "code",
   "execution_count": null,
   "id": "91f02514",
   "metadata": {},
   "outputs": [],
   "source": [
    "# click the EOA\n",
    "driver.find_element(By.LINK_TEXT, \"EOA\").click()"
   ]
  },
  {
   "cell_type": "code",
   "execution_count": null,
   "id": "7e97e1b4",
   "metadata": {},
   "outputs": [],
   "source": [
    "# click full report to download file\n",
    "driver.find_element(By.LINK_TEXT, \"Full Report\").click()"
   ]
  },
  {
   "cell_type": "code",
   "execution_count": null,
   "id": "0ace3709",
   "metadata": {},
   "outputs": [],
   "source": [
    "# click the Invoices tab\n",
    "driver.find_element(By.LINK_TEXT, 'Invoices').click()"
   ]
  },
  {
   "cell_type": "code",
   "execution_count": null,
   "id": "5f44e8d6",
   "metadata": {},
   "outputs": [],
   "source": [
    "# set up soup\n",
    "# read in the html page with selenium \n",
    "html = driver.page_source\n",
    "\n",
    "# Parse the HTML using Beautiful Soup\n",
    "soup = BeautifulSoup(html, 'html.parser')\n"
   ]
  },
  {
   "cell_type": "code",
   "execution_count": null,
   "id": "23b356a1",
   "metadata": {},
   "outputs": [],
   "source": [
    "heads = []\n",
    "header = soup.find_all(\"table\")[4].find(\"tr\")\n",
    " \n",
    "for items in header:\n",
    "    if items.get_text().strip():  # check if not empty\n",
    "        heads.append(items.get_text())\n",
    "        \n",
    "heads = [head.strip('\\n') for head in heads]"
   ]
  },
  {
   "cell_type": "code",
   "execution_count": null,
   "id": "bfd7cd93",
   "metadata": {},
   "outputs": [],
   "source": [
    "table_rows = soup.find_all('table')[4].find_all('tr')\n",
    "\n",
    "data = []\n",
    "\n",
    "for tr in table_rows:\n",
    "    td = tr.find_all('td')\n",
    "    row = [tr.text for tr in td]\n",
    "    data.append(row)"
   ]
  },
  {
   "cell_type": "code",
   "execution_count": null,
   "id": "94e3b044",
   "metadata": {},
   "outputs": [],
   "source": [
    "# write data to df\n",
    "dataFrame = pd.DataFrame(data = data, columns = heads)"
   ]
  },
  {
   "cell_type": "code",
   "execution_count": null,
   "id": "67f6a116",
   "metadata": {},
   "outputs": [],
   "source": [
    "#write the file out to the page title \n",
    "page_title = driver.find_element(By.ID, \"pagetitle\").text\n",
    "page_title = page_title.replace(' ', '')\n",
    "page_title = page_title.replace('-', '')\n",
    "\n",
    "dataFrame.to_csv(page_title + \"LA.csv\")"
   ]
  },
  {
   "cell_type": "markdown",
   "id": "695b0d8e",
   "metadata": {},
   "source": [
    "#### This code will go through each day for the auction"
   ]
  },
  {
   "cell_type": "code",
   "execution_count": null,
   "id": "442f213e",
   "metadata": {},
   "outputs": [],
   "source": [
    "# #click Auctions in main menu\n",
    "link = driver.find_element(By.LINK_TEXT, 'Auctions ▾')\n",
    "link.click()"
   ]
  },
  {
   "cell_type": "code",
   "execution_count": null,
   "id": "7e50e486",
   "metadata": {},
   "outputs": [],
   "source": [
    "#click the post auction button \n",
    "driver.find_element(By.LINK_TEXT, \"Post Auction\").click()"
   ]
  },
  {
   "cell_type": "code",
   "execution_count": null,
   "id": "41c0f82e",
   "metadata": {},
   "outputs": [],
   "source": [
    "start_date = datetime(2023, 1, 24)\n",
    "end_date = datetime(2023, 1, 30)\n",
    "\n",
    "# Initialize a counter\n",
    "counter = 0\n",
    "\n",
    "# Get the table\n",
    "table = driver.find_element(By.TAG_NAME, \"table\")\n",
    "\n",
    "# Get the rows in the table\n",
    "rows = table.find_elements(By.TAG_NAME, \"tr\")\n",
    "\n",
    "# Iterate through the rows\n",
    "for row in rows:\n",
    "    # Get the cells in the row\n",
    "    cells = row.find_elements(By.TAG_NAME, \"td\")\n",
    "    # Check if the row contains any cells\n",
    "    if len(cells) > 0:\n",
    "        # Check if the first cell contains a date within the specified range\n",
    "        if start_date <= datetime.strptime(cells[0].text, '%Y-%m-%d %I:%M%p') <= end_date:\n",
    "            \n",
    "            #set up a counter\n",
    "            counter += 1\n",
    "            \n",
    "            #make it select the second date match\n",
    "            if counter == 3 : \n",
    "            \n",
    "                # Get the link element in the second cell\n",
    "                link = cells[1].find_element(By.TAG_NAME, \"a\")\n",
    "                # Click the link\n",
    "                link.click()\n",
    "                # Break out of the loop\n",
    "                break"
   ]
  },
  {
   "cell_type": "code",
   "execution_count": null,
   "id": "6151c791",
   "metadata": {},
   "outputs": [],
   "source": [
    "# click the EOA\n",
    "driver.find_element(By.LINK_TEXT, \"EOA\").click()"
   ]
  },
  {
   "cell_type": "code",
   "execution_count": null,
   "id": "6acf19c5",
   "metadata": {},
   "outputs": [],
   "source": [
    "# click full report to download file\n",
    "driver.find_element(By.LINK_TEXT, \"Full Report\").click()"
   ]
  },
  {
   "cell_type": "code",
   "execution_count": null,
   "id": "97a8889d",
   "metadata": {},
   "outputs": [],
   "source": [
    "# click the Invoices tab\n",
    "driver.find_element(By.LINK_TEXT, 'Invoices').click()"
   ]
  },
  {
   "cell_type": "code",
   "execution_count": null,
   "id": "e5b5ece6",
   "metadata": {},
   "outputs": [],
   "source": [
    "# set up soup\n",
    "# read in the html page with selenium \n",
    "html = driver.page_source\n",
    "\n",
    "# Parse the HTML using Beautiful Soup\n",
    "soup = BeautifulSoup(html, 'html.parser')\n"
   ]
  },
  {
   "cell_type": "code",
   "execution_count": null,
   "id": "5581c717",
   "metadata": {},
   "outputs": [],
   "source": [
    "heads = []\n",
    "header = soup.find_all(\"table\")[4].find(\"tr\")\n",
    " \n",
    "for items in header:\n",
    "    if items.get_text().strip():  # check if not empty\n",
    "        heads.append(items.get_text())\n",
    "        \n",
    "heads = [head.strip('\\n') for head in heads]"
   ]
  },
  {
   "cell_type": "code",
   "execution_count": null,
   "id": "e257eab2",
   "metadata": {},
   "outputs": [],
   "source": [
    "table_rows = soup.find_all('table')[4].find_all('tr')\n",
    "\n",
    "data = []\n",
    "\n",
    "for tr in table_rows:\n",
    "    td = tr.find_all('td')\n",
    "    row = [tr.text for tr in td]\n",
    "    data.append(row)"
   ]
  },
  {
   "cell_type": "code",
   "execution_count": null,
   "id": "7a63e366",
   "metadata": {},
   "outputs": [],
   "source": [
    "# write data to df\n",
    "dataFrame = pd.DataFrame(data = data, columns = heads)"
   ]
  },
  {
   "cell_type": "code",
   "execution_count": null,
   "id": "00c0ca5e",
   "metadata": {},
   "outputs": [],
   "source": [
    "#write the file out to the page title \n",
    "page_title = driver.find_element(By.ID, \"pagetitle\").text\n",
    "page_title = page_title.replace(' ', '')\n",
    "page_title = page_title.replace('-', '')\n",
    "\n",
    "dataFrame.to_csv(page_title + \"LA.csv\")"
   ]
  },
  {
   "cell_type": "code",
   "execution_count": null,
   "id": "cd2e022a",
   "metadata": {},
   "outputs": [],
   "source": [
    "driver.quit()"
   ]
  },
  {
   "cell_type": "markdown",
   "id": "ba4e0d7d",
   "metadata": {},
   "source": [
    "# Hibid Auction Platform\n",
    "\n",
    "This section is specific for the desktop."
   ]
  },
  {
   "cell_type": "code",
   "execution_count": null,
   "id": "7de533fc",
   "metadata": {},
   "outputs": [],
   "source": [
    "# launch hibid app\n",
    "pyautogui.moveTo(138, 1228, duration=1)\n",
    "pyautogui.click(x=138, y = 1228)\n",
    "\n",
    "# accept server\n",
    "pyautogui.moveTo(1205, 394, duration=1)\n",
    "pyautogui.click(x=1205, y = 394)\n",
    "\n",
    "#go to enter username \n",
    "pyautogui.moveTo(1116, 558, duration=3)\n",
    "pyautogui.click(x=1116, y = 558)\n",
    "\n",
    "# write in user name \n",
    "pyautogui.write('USERNAME')\n",
    "\n",
    "# move to password box\n",
    "pyautogui.moveTo(1120, 595, duration=1)\n",
    "pyautogui.click(x=1120, y = 595)\n",
    "\n",
    "#enter password\n",
    "pyautogui.write('PASSWORD')\n",
    "\n",
    "# click submit\n",
    "pyautogui.moveTo(1078, 651, duration=1)\n",
    "pyautogui.click(x=1078, y = 651)\n",
    "\n",
    "#click on the icon to launch\n",
    "pyautogui.moveTo(353, 310, duration=1)\n",
    "\n",
    "pyautogui.click(x=353, y=310, clicks=3, interval=.5)"
   ]
  },
  {
   "cell_type": "code",
   "execution_count": null,
   "id": "f2bfb86d",
   "metadata": {
    "scrolled": false
   },
   "outputs": [],
   "source": [
    "# click \"Select/new\"\n",
    "pyautogui.moveTo(1369, 523, duration=1)\n",
    "pyautogui.click(x=1369, y = 523)\n",
    "\n",
    "#click on dates to arrange dates DESC\n",
    "pyautogui.moveTo(1384, 571, duration=2)\n",
    "pyautogui.click(x=1384, y = 571, clicks= 2, interval= 1)\n",
    "\n",
    "# Auction One\n",
    "auction_recent_one = (2535, 1154, 130 ,25)\n",
    "# Use PyAutoGUI to locate the date range for auction one\n",
    "auction_recent_one_image = pyautogui.screenshot(region=auction_recent_one)\n",
    "auction_recent_one_image.save('/Users/megandba/Desktop/analytics/auction_recent_one_image.png')\n",
    "auction_recent_one_image_text = pytesseract.image_to_string(auction_recent_one_image)\n",
    "\n",
    "\n",
    "# Auction Two\n",
    "auction_recent_two = (2538, 1180, 130 ,25)\n",
    "# Use PyAutoGUI to locate the date range\n",
    "auction_recent_two_image = pyautogui.screenshot(region=auction_recent_two)\n",
    "auction_recent_two_image.save('/Users/megandba/Desktop/analytics/auction_recent_two_image.png')\n",
    "auction_recent_two_image_text = pytesseract.image_to_string(auction_recent_two_image)\n",
    "\n",
    "\n",
    "# Auction Three \n",
    "auction_recent_three = (2538, 1208, 130 ,25)\n",
    "# Use PyAutoGUI to locate the date range\n",
    "auction_recent_three_image = pyautogui.screenshot(region=auction_recent_three)\n",
    "auction_recent_three_image.save('/Users/megandba/Desktop/analytics/auction_recent_three_image.png')\n",
    "auction_recent_three_image_text = pytesseract.image_to_string(auction_recent_three_image)\n",
    "\n",
    "# Auction Four\n",
    "auction_recent_four = (2538, 1236, 130 ,26)\n",
    "# Use PyAutoGUI to locate the date range\n",
    "auction_recent_four_image = pyautogui.screenshot(region=auction_recent_four)\n",
    "auction_recent_four_image.save('/Users/megandba/Desktop/analytics/auction_recent_four_image.png')\n",
    "auction_recent_four_image_text = pytesseract.image_to_string(auction_recent_four_image)\n",
    "\n",
    "\n",
    "# Auction Five \n",
    "auction_recent_five = (2538, 1261, 130 ,26)\n",
    "# Use PyAutoGUI to locate the date range\n",
    "auction_recent_five_image = pyautogui.screenshot(region=auction_recent_five)\n",
    "auction_recent_five_image.save('/Users/megandba/Desktop/analytics/auction_recent_five_image.png')\n",
    "auction_recent_five_image_text = pytesseract.image_to_string(auction_recent_five_image)\n",
    "\n",
    "\n",
    "# Auction six \n",
    "auction_recent_six = (2538, 1289, 130 ,26)\n",
    "# Use PyAutoGUI to locate the date range\n",
    "auction_recent_six_image = pyautogui.screenshot(region=auction_recent_six)\n",
    "auction_recent_six_image.save('/Users/megandba/Desktop/analytics/auction_recent_six_image.png')\n",
    "auction_recent_six_image_text = pytesseract.image_to_string(auction_recent_six_image)\n",
    "\n",
    "\n",
    "# Auction seven \n",
    "auction_recent_seven = (2538, 1317, 130 ,26)\n",
    "# Use PyAutoGUI to locate the date range\n",
    "auction_recent_seven_image = pyautogui.screenshot(region=auction_recent_seven)\n",
    "auction_recent_seven_image.save('/Users/megandba/Desktop/analytics/auction_recent_seven_image.png')\n",
    "auction_recent_seven_image_text = pytesseract.image_to_string(auction_recent_seven_image)\n",
    "\n",
    "\n",
    "# Auction eight \n",
    "auction_recent_eight = (2538, 1344, 130 ,26)\n",
    "# Use PyAutoGUI to locate the date range\n",
    "auction_recent_eight_image = pyautogui.screenshot(region=auction_recent_eight)\n",
    "auction_recent_eight_image.save('/Users/megandba/Desktop/analytics/auction_recent_eight_image.png')\n",
    "auction_recent_eight_image_text = pytesseract.image_to_string(auction_recent_eight_image)\n",
    "\n",
    "# Turn all the coordinates into a dict with their dates\n",
    "auct_dict = {('2535, 1154'): auction_recent_one_image_text, \n",
    "             ('2538, 1180'): auction_recent_two_image_text, \n",
    "             ('2538, 1208'): auction_recent_three_image_text,\n",
    "             ('2538, 1236'): auction_recent_four_image_text,\n",
    "             ('2538, 1261'): auction_recent_five_image_text,\n",
    "             ('2538, 1289'): auction_recent_six_image_text,\n",
    "             ('2538, 1317'): auction_recent_seven_image_text,\n",
    "             ('2538, 1344'): auction_recent_eight_image_text,\n",
    "            }\n",
    "\n",
    "# set up your time frame here \n",
    "today = datetime(2023, 2, 26).date()\n",
    "two_weeks_ago = datetime(2023, 2, 24).date()\n",
    "two_weeks_ago = datetime.combine(two_weeks_ago, datetime.min.time())\n",
    "today = datetime.combine(today, datetime.min.time())\n",
    "\n",
    "# add in the counter \n",
    "counter = 0\n",
    "\n",
    "# here we will check the dates against our selection\n",
    "# we will take the coordiantes divided by two with some math to click our one date\n",
    "for key, value in auct_dict.items() :\n",
    "    item_date_str = value.strip()\n",
    "    item_date = datetime.strptime(item_date_str, '%m/%d/%Y')\n",
    "    \n",
    "    if two_weeks_ago <= item_date <= today : \n",
    "        \n",
    "        counter += 1\n",
    "        \n",
    "        if counter == 1 :\n",
    "            print(key, value)\n",
    "            x, y = map(int, key.split(','))\n",
    "            #we divide bc retina display doubles the screenshot coords\n",
    "            new_key = ((x // 2)+3, (y // 2)+5)\n",
    "            print(new_key)\n",
    "            pyautogui.moveTo(new_key, duration=1)\n",
    "            pyautogui.click(new_key)\n",
    "            break\n",
    "            \n",
    "# click OKAY to return to menu\n",
    "pyautogui.moveTo(x = 1350, y = 844, duration=1)\n",
    "pyautogui.click(x = 1350, y = 844)\n",
    "\n",
    "# click Check-out bidders\n",
    "pyautogui.moveTo(x = 1169, y = 733, duration=1)\n",
    "pyautogui.click(x = 1169, y = 733)\n",
    "\n",
    "# click invoices\n",
    "pyautogui.moveTo(x = 681, y = 660, duration=1)\n",
    "pyautogui.click(x = 681, y = 660)\n",
    "\n",
    "# click reports\n",
    "pyautogui.moveTo(x = 686, y = 924, duration=1)\n",
    "pyautogui.click(x = 686, y = 924)\n",
    "\n",
    "# click custom reports\n",
    "pyautogui.moveTo(x = 834, y = 708, duration=1)\n",
    "pyautogui.click(x = 834, y = 708)\n",
    "\n",
    "# click print icon in the top right of the current box \n",
    "pyautogui.moveTo(x = 1420, y = 552, duration=5)\n",
    "pyautogui.click(x = 1420, y = 552)\n",
    "\n",
    "# click yes (would uou like to export to Excel)\n",
    "pyautogui.moveTo(x = 1179, y = 681, duration=5)\n",
    "pyautogui.click(x = 1179, y = 681)\n",
    "\n",
    "# click this pc to save to This PC\n",
    "pyautogui.moveTo(x = 56, y = 305, duration=5)\n",
    "pyautogui.click(x = 56, y = 305)\n",
    "\n",
    "\n",
    "# click the Macintosh HD\n",
    "pyautogui.moveTo(x = 858, y = 213, duration=5)\n",
    "pyautogui.click(x = 858, y = 213, clicks = 3)\n",
    "\n",
    "\n",
    "# click the USERS folder\n",
    "pyautogui.moveTo(x = 144, y = 354, duration=5)\n",
    "pyautogui.click(x = 144, y = 354, clicks = 3)\n",
    "\n",
    "# click the megandba\n",
    "pyautogui.moveTo(x = 163, y = 125, duration=5)\n",
    "pyautogui.click(x = 163, y = 125, clicks = 3)\n",
    "\n",
    "# click the desktop folder\n",
    "pyautogui.moveTo(x = 163, y = 182, duration=5)\n",
    "pyautogui.click(x = 163, y = 182, clicks = 3)\n",
    "\n",
    "# click the Analytics Folder \n",
    "pyautogui.moveTo(x = 157, y = 145, duration=5)\n",
    "pyautogui.click(x = 157, y = 145, clicks = 4)\n",
    "\n",
    "# click the save button\n",
    "pyautogui.moveTo(x = 2187, y = 1082, duration=5)\n",
    "pyautogui.click(x = 2187, y = 1082, clicks = 4)\n",
    "\n",
    "# click the okay\n",
    "pyautogui.moveTo(x = 1299, y = 689, duration=5)\n",
    "pyautogui.click(x = 1299, y = 689, clicks = 2)\n",
    "\n",
    "# click the red x to get back to the auction page \n",
    "pyautogui.moveTo(x = 1598, y = 462, duration=5)\n",
    "pyautogui.click(x = 1598, y = 462, clicks = 2)\n"
   ]
  },
  {
   "cell_type": "code",
   "execution_count": null,
   "id": "2772c7a0",
   "metadata": {
    "scrolled": true
   },
   "outputs": [],
   "source": [
    "# check for the second auction\n",
    "\n",
    "# click \"Select/new\"\n",
    "pyautogui.moveTo(1369, 523, duration=1)\n",
    "pyautogui.click(x=1369, y = 523)\n",
    "\n",
    "#click on dates to arrange dates DESC\n",
    "pyautogui.moveTo(1384, 571, duration=2)\n",
    "pyautogui.click(x=1384, y = 571, clicks= 2, interval= 1)\n",
    "\n",
    "\n",
    "# reset the counter\n",
    "counter = 0\n",
    "\n",
    "# here we will check the dates against our selection\n",
    "# we will take the coordiantes divided by two with some math to click our one date\n",
    "for key, value in auct_dict.items() :\n",
    "    item_date_str = value.strip()\n",
    "    item_date = datetime.strptime(item_date_str, '%m/%d/%Y')\n",
    "    \n",
    "    if two_weeks_ago <= item_date <= today : \n",
    "        \n",
    "        counter += 1\n",
    "        \n",
    "        if counter == 2 :\n",
    "            print(key, value)\n",
    "            x, y = map(int, key.split(','))\n",
    "            #we divide bc retina display doubles the screenshot coords\n",
    "            new_key = ((x // 2)+3, (y // 2)+5)\n",
    "            print(new_key)\n",
    "            pyautogui.moveTo(new_key, duration=1)\n",
    "            pyautogui.click(new_key)\n",
    "            break\n",
    "            \n",
    "# click OKAY to return to menu\n",
    "pyautogui.moveTo(x = 1350, y = 844, duration=1)\n",
    "pyautogui.click(x = 1350, y = 844)\n",
    "\n",
    "# click Check-out bidders\n",
    "pyautogui.moveTo(x = 1169, y = 733, duration=1)\n",
    "pyautogui.click(x = 1169, y = 733)\n",
    "\n",
    "# click invoices\n",
    "pyautogui.moveTo(x = 681, y = 660, duration=1)\n",
    "pyautogui.click(x = 681, y = 660)\n",
    "\n",
    "# click reports\n",
    "pyautogui.moveTo(x = 686, y = 924, duration=1)\n",
    "pyautogui.click(x = 686, y = 924)\n",
    "\n",
    "# click custom reports\n",
    "pyautogui.moveTo(x = 834, y = 708, duration=1)\n",
    "pyautogui.click(x = 834, y = 708)\n",
    "\n",
    "# click print icon in the top right of the current box \n",
    "pyautogui.moveTo(x = 1420, y = 552, duration=5)\n",
    "pyautogui.click(x = 1420, y = 552)\n",
    "\n",
    "# click yes (would uou like to export to Excel)\n",
    "pyautogui.moveTo(x = 1179, y = 681, duration=5)\n",
    "pyautogui.click(x = 1179, y = 681)\n",
    "\n",
    "# click this pc to save to This PC\n",
    "pyautogui.moveTo(x = 56, y = 305, duration=5)\n",
    "pyautogui.click(x = 56, y = 305)\n",
    "\n",
    "\n",
    "# click the Macintosh HD\n",
    "pyautogui.moveTo(x = 858, y = 213, duration=5)\n",
    "pyautogui.click(x = 858, y = 213, clicks = 3)\n",
    "\n",
    "\n",
    "# click the USERS folder\n",
    "pyautogui.moveTo(x = 144, y = 354, duration=5)\n",
    "pyautogui.click(x = 144, y = 354, clicks = 3)\n",
    "\n",
    "# click the megandba\n",
    "pyautogui.moveTo(x = 163, y = 125, duration=5)\n",
    "pyautogui.click(x = 163, y = 125, clicks = 3)\n",
    "\n",
    "# click the desktop folder\n",
    "pyautogui.moveTo(x = 163, y = 182, duration=5)\n",
    "pyautogui.click(x = 163, y = 182, clicks = 3)\n",
    "\n",
    "# click the Analytics Folder \n",
    "pyautogui.moveTo(x = 157, y = 145, duration=5)\n",
    "pyautogui.click(x = 157, y = 145, clicks = 4)\n",
    "\n",
    "# click the save button\n",
    "pyautogui.moveTo(x = 2187, y = 1082, duration=5)\n",
    "pyautogui.click(x = 2187, y = 1082, clicks = 4)\n",
    "\n",
    "# click the okay\n",
    "pyautogui.moveTo(x = 1299, y = 689, duration=5)\n",
    "pyautogui.click(x = 1299, y = 689, clicks = 2)\n",
    "\n",
    "# click the red x to get back to the auction page \n",
    "pyautogui.moveTo(x = 1598, y = 462, duration=5)\n",
    "pyautogui.click(x = 1598, y = 462, clicks = 2)"
   ]
  },
  {
   "cell_type": "code",
   "execution_count": null,
   "id": "b163a12e",
   "metadata": {},
   "outputs": [],
   "source": [
    "def export_auction_report_3(auct_dict) : \n",
    "    # THE THIRD AUCTION\n",
    "\n",
    "    # click \"Select/new\"\n",
    "    pyautogui.moveTo(1369, 523, duration=1)\n",
    "    pyautogui.click(x=1369, y = 523)\n",
    "\n",
    "    #click on dates to arrange dates DESC\n",
    "    pyautogui.moveTo(1384, 571, duration=2)\n",
    "    pyautogui.click(x=1384, y = 571, clicks= 2, interval= 1)\n",
    "\n",
    "\n",
    "    # reset the counter\n",
    "    counter = 0\n",
    "\n",
    "    # here we will check the dates against our selection\n",
    "    # we will take the coordiantes divided by two with some math to click our one date\n",
    "    for key, value in auct_dict.items() :\n",
    "        item_date_str = value.strip()\n",
    "        item_date = datetime.strptime(item_date_str, '%m/%d/%Y')\n",
    "\n",
    "        if two_weeks_ago <= item_date <= today : \n",
    "\n",
    "            counter += 1\n",
    "\n",
    "            if counter == 3 :\n",
    "                found_third_auction = True\n",
    "                x, y = map(int, key.split(','))\n",
    "                #we divide bc retina display doubles the screenshot coords\n",
    "                new_key = ((x // 2)+3, (y // 2)+5)\n",
    "                pyautogui.moveTo(new_key, duration=1)\n",
    "                pyautogui.click(new_key)\n",
    "                break\n",
    "    else :\n",
    "        print('no third auction')\n",
    "            \n",
    "    if found_third_auction: \n",
    "        # click OKAY to return to menu\n",
    "        pyautogui.moveTo(x = 1350, y = 844, duration=1)\n",
    "        pyautogui.click(x = 1350, y = 844)\n",
    "\n",
    "        # click Check-out bidders\n",
    "        pyautogui.moveTo(x = 1169, y = 733, duration=1)\n",
    "        pyautogui.click(x = 1169, y = 733)\n",
    "\n",
    "        # click invoices\n",
    "        pyautogui.moveTo(x = 681, y = 660, duration=1)\n",
    "        pyautogui.click(x = 681, y = 660)\n",
    "\n",
    "        # click reports\n",
    "        pyautogui.moveTo(x = 686, y = 924, duration=1)\n",
    "        pyautogui.click(x = 686, y = 924)\n",
    "\n",
    "        # click custom reports\n",
    "        pyautogui.moveTo(x = 834, y = 708, duration=1)\n",
    "        pyautogui.click(x = 834, y = 708)\n",
    "\n",
    "        # click print icon in the top right of the current box \n",
    "        pyautogui.moveTo(x = 1420, y = 552, duration=5)\n",
    "        pyautogui.click(x = 1420, y = 552)\n",
    "\n",
    "        # click yes (would uou like to export to Excel)\n",
    "        pyautogui.moveTo(x = 1179, y = 681, duration=5)\n",
    "        pyautogui.click(x = 1179, y = 681)\n",
    "\n",
    "        # click this pc to save to This PC\n",
    "        pyautogui.moveTo(x = 56, y = 305, duration=5)\n",
    "        pyautogui.click(x = 56, y = 305)\n",
    "\n",
    "\n",
    "        # click the Macintosh HD\n",
    "        pyautogui.moveTo(x = 858, y = 213, duration=5)\n",
    "        pyautogui.click(x = 858, y = 213, clicks = 3)\n",
    "\n",
    "\n",
    "        # click the USERS folder\n",
    "        pyautogui.moveTo(x = 144, y = 354, duration=5)\n",
    "        pyautogui.click(x = 144, y = 354, clicks = 3)\n",
    "\n",
    "        # click the megandba\n",
    "        pyautogui.moveTo(x = 163, y = 125, duration=5)\n",
    "        pyautogui.click(x = 163, y = 125, clicks = 3)\n",
    "\n",
    "        # click the desktop folder\n",
    "        pyautogui.moveTo(x = 163, y = 182, duration=5)\n",
    "        pyautogui.click(x = 163, y = 182, clicks = 3)\n",
    "\n",
    "        # click the Analytics Folder \n",
    "        pyautogui.moveTo(x = 157, y = 145, duration=5)\n",
    "        pyautogui.click(x = 157, y = 145, clicks = 4)\n",
    "\n",
    "        # click the save button\n",
    "        pyautogui.moveTo(x = 2187, y = 1082, duration=5)\n",
    "        pyautogui.click(x = 2187, y = 1082, clicks = 4)\n",
    "\n",
    "        # click the okay\n",
    "        pyautogui.moveTo(x = 1299, y = 689, duration=5)\n",
    "        pyautogui.click(x = 1299, y = 689, clicks = 2)\n",
    "\n",
    "        # click the red x to get back to the auction page \n",
    "        pyautogui.moveTo(x = 1598, y = 462, duration=5)\n",
    "        pyautogui.click(x = 1598, y = 462, clicks = 2)"
   ]
  },
  {
   "cell_type": "code",
   "execution_count": null,
   "id": "cc1aa787",
   "metadata": {},
   "outputs": [],
   "source": [
    "export_auction_report_3(auct_dict)"
   ]
  },
  {
   "cell_type": "code",
   "execution_count": null,
   "id": "89ea67c8",
   "metadata": {},
   "outputs": [],
   "source": [
    "# THE THIRD AUCTION\n",
    "\n",
    "# click \"Select/new\"\n",
    "pyautogui.moveTo(1369, 523, duration=1)\n",
    "pyautogui.click(x=1369, y = 523)\n",
    "\n",
    "#click on dates to arrange dates DESC\n",
    "pyautogui.moveTo(1384, 571, duration=2)\n",
    "pyautogui.click(x=1384, y = 571, clicks= 2, interval= 1)\n",
    "\n",
    "\n",
    "# reset the counter\n",
    "counter = 0\n",
    "\n",
    "# here we will check the dates against our selection\n",
    "# we will take the coordiantes divided by two with some math to click our one date\n",
    "for key, value in auct_dict.items() :\n",
    "    item_date_str = value.strip()\n",
    "    item_date = datetime.strptime(item_date_str, '%m/%d/%Y')\n",
    "    \n",
    "    if two_weeks_ago <= item_date <= today : \n",
    "        \n",
    "        counter += 1\n",
    "        \n",
    "        if counter == 3 :\n",
    "            print(key, value)\n",
    "            x, y = map(int, key.split(','))\n",
    "            #we divide bc retina display doubles the screenshot coords\n",
    "            new_key = ((x // 2)+3, (y // 2)+5)\n",
    "            print(new_key)\n",
    "            pyautogui.moveTo(new_key, duration=1)\n",
    "            pyautogui.click(new_key)\n",
    "            break\n",
    "            \n",
    "# click OKAY to return to menu\n",
    "pyautogui.moveTo(x = 1350, y = 844, duration=1)\n",
    "pyautogui.click(x = 1350, y = 844)\n",
    "\n",
    "# click Check-out bidders\n",
    "pyautogui.moveTo(x = 1169, y = 733, duration=1)\n",
    "pyautogui.click(x = 1169, y = 733)\n",
    "\n",
    "# click invoices\n",
    "pyautogui.moveTo(x = 681, y = 660, duration=1)\n",
    "pyautogui.click(x = 681, y = 660)\n",
    "\n",
    "# click reports\n",
    "pyautogui.moveTo(x = 686, y = 924, duration=1)\n",
    "pyautogui.click(x = 686, y = 924)\n",
    "\n",
    "# click custom reports\n",
    "pyautogui.moveTo(x = 834, y = 708, duration=1)\n",
    "pyautogui.click(x = 834, y = 708)\n",
    "\n",
    "# click print icon in the top right of the current box \n",
    "pyautogui.moveTo(x = 1420, y = 552, duration=5)\n",
    "pyautogui.click(x = 1420, y = 552)\n",
    "\n",
    "# click yes (would uou like to export to Excel)\n",
    "pyautogui.moveTo(x = 1179, y = 681, duration=5)\n",
    "pyautogui.click(x = 1179, y = 681)\n",
    "\n",
    "# click this pc to save to This PC\n",
    "pyautogui.moveTo(x = 56, y = 305, duration=5)\n",
    "pyautogui.click(x = 56, y = 305)\n",
    "\n",
    "\n",
    "# click the Macintosh HD\n",
    "pyautogui.moveTo(x = 858, y = 213, duration=5)\n",
    "pyautogui.click(x = 858, y = 213, clicks = 3)\n",
    "\n",
    "\n",
    "# click the USERS folder\n",
    "pyautogui.moveTo(x = 144, y = 354, duration=5)\n",
    "pyautogui.click(x = 144, y = 354, clicks = 3)\n",
    "\n",
    "# click the megandba\n",
    "pyautogui.moveTo(x = 163, y = 125, duration=5)\n",
    "pyautogui.click(x = 163, y = 125, clicks = 3)\n",
    "\n",
    "# click the desktop folder\n",
    "pyautogui.moveTo(x = 163, y = 182, duration=5)\n",
    "pyautogui.click(x = 163, y = 182, clicks = 3)\n",
    "\n",
    "# click the Analytics Folder \n",
    "pyautogui.moveTo(x = 157, y = 145, duration=5)\n",
    "pyautogui.click(x = 157, y = 145, clicks = 4)\n",
    "\n",
    "# click the save button\n",
    "pyautogui.moveTo(x = 2187, y = 1082, duration=5)\n",
    "pyautogui.click(x = 2187, y = 1082, clicks = 4)\n",
    "\n",
    "# click the okay\n",
    "pyautogui.moveTo(x = 1299, y = 689, duration=5)\n",
    "pyautogui.click(x = 1299, y = 689, clicks = 2)\n",
    "\n",
    "# click the red x to get back to the auction page \n",
    "pyautogui.moveTo(x = 1598, y = 462, duration=5)\n",
    "pyautogui.click(x = 1598, y = 462, clicks = 2)"
   ]
  },
  {
   "cell_type": "markdown",
   "id": "a80cfbec",
   "metadata": {},
   "source": [
    "# Process files and send to GBQ"
   ]
  },
  {
   "cell_type": "code",
   "execution_count": null,
   "id": "ea592f3f",
   "metadata": {},
   "outputs": [],
   "source": [
    "# set up directory and read in our data \n",
    "directory = '/Users/megandba/Desktop/analytics'\n",
    "dfs = {}\n",
    "counter = 1 \n",
    "\n",
    "for filename in os.listdir(directory):\n",
    "    if filename.startswith(\"AUCTION_\"):\n",
    "        file_path = os.path.join(directory, filename)\n",
    "        df = pd.read_excel(file_path, engine='xlrd')\n",
    "        df = df.rename(mapper=lambda name: f\"{filename}_df\")\n",
    "        dfs[filename] = df\n",
    "    elif filename.endswith((\".csv\", \".xls\", \".xlsx\")):\n",
    "        file_path = os.path.join(directory, filename)\n",
    "        if filename.lower().endswith((\".xls\", \".xlsx\")):\n",
    "            if filename.startswith(\"sessionResults\"):\n",
    "                df = pd.read_excel(file_path)\n",
    "                dfs[\"sessionResults\"] = df\n",
    "            elif filename.startswith(\"EOA\"):\n",
    "                df = pd.read_excel(file_path)\n",
    "                if f\"EOA{counter}\" not in dfs:\n",
    "                    dfs[f\"EOA{counter}\"] = df\n",
    "                counter += 1\n",
    "            else: \n",
    "                df = pd.read_excel(file_path, engine='xlrd')\n",
    "        else: \n",
    "            if filename.startswith(\"WinningBidderReport\"):\n",
    "                df = pd.read_csv(file_path, skiprows=10, encoding='utf-8')\n",
    "                if f\"proxibid_{counter}\" not in dfs:\n",
    "                    dfs[f\"proxibid_{counter}\"] = df\n",
    "                counter += 1\n",
    "            else:\n",
    "                df = pd.read_csv(file_path, encoding='utf-8')\n",
    "                df = df.rename(mapper=lambda name: f\"{filename}_df\")\n",
    "                dfs[filename] = df\n",
    "for key in dfs.keys():\n",
    "    dfs[key] = dfs[key].clean_names()"
   ]
  },
  {
   "cell_type": "markdown",
   "id": "5ef24e3e",
   "metadata": {},
   "source": [
    "### Merging Invaluable Files"
   ]
  },
  {
   "cell_type": "code",
   "execution_count": null,
   "id": "76df668d",
   "metadata": {},
   "outputs": [],
   "source": [
    "# define a function to extract the numbers before the colon and return as a list\n",
    "def extract_lottitles(s):\n",
    "    pattern = r'^(\\d+):'\n",
    "    matches = re.findall(pattern, s)\n",
    "    return [int(m) for m in matches]\n",
    "\n",
    "# apply the function to the lottitle column and store in a new column as a list\n",
    "dfs['sessionResults']['lottitle_list'] = dfs['sessionResults']['lottitle'].apply(extract_lottitles)\n",
    "\n",
    "# merging invaluable \n",
    "df = dfs['sessionResults']\n",
    "df['lottitle_numbers'] = df['lottitle_list'].apply(lambda x: [int(str(s).split(':')[0]) for s in x])\n",
    "new_df = df.groupby('paddle_#').agg({\n",
    "    'session': 'first',\n",
    "    'lotid': 'first',\n",
    "    'hammer': 'first',\n",
    "    'premium': 'first',\n",
    "    'live_fee': 'first',\n",
    "    'total': 'first',\n",
    "    'username': 'first',\n",
    "    'email': 'first',\n",
    "    'phone': 'first',\n",
    "    'firstname': 'first',\n",
    "    'lastname': 'first',\n",
    "    'street': 'first',\n",
    "    'city': 'first',\n",
    "    'stateid': 'first',\n",
    "    'postcode': 'first',\n",
    "    'countryid': 'first',\n",
    "    'source': 'first',\n",
    "    'lottitle_numbers': 'sum'\n",
    "}).reset_index()\n",
    "\n",
    "# # # # This part will be deleted because we renamed the variables in the output for the file in invalueable\n",
    "# \n",
    "new_df = new_df.rename(columns={'paddle_#': 'paddle_number'})\n",
    "\n",
    "\n",
    "dfs['invaluable_wepage_prices.csv']['paddle_number'] = dfs['invaluable_wepage_prices.csv']['paddle_number'].str.replace('#', '').astype(int)\n",
    "\n",
    "merged_df = pd.merge(new_df, dfs['invaluable_wepage_prices.csv'], on='paddle_number', how='left')\n",
    "\n",
    "merged_df = merged_df.drop(['lotid', 'hammer', 'premium', 'live_fee', 'total', 'username'], axis=1)\n",
    "\n",
    "invalueablefinal = merged_df.assign(source='invaluable')\n"
   ]
  },
  {
   "cell_type": "code",
   "execution_count": null,
   "id": "8689c496",
   "metadata": {
    "scrolled": true
   },
   "outputs": [],
   "source": [
    "invalueablefinal['lottitle_numbers'] = invalueablefinal['lottitle_numbers'].apply(lambda x: str(x).encode())"
   ]
  },
  {
   "cell_type": "markdown",
   "id": "3e2a499f",
   "metadata": {},
   "source": [
    "### iCollector"
   ]
  },
  {
   "cell_type": "code",
   "execution_count": null,
   "id": "359ad839",
   "metadata": {
    "scrolled": true
   },
   "outputs": [],
   "source": [
    "# create a function to create a list of the text \n",
    "# hoping to use this in the future for text analysis\n",
    "def get_title_list(group_df):\n",
    "    return group_df['title'].tolist()\n",
    "\n",
    "# create df from dict\n",
    "df = dfs['ic-59053-qg.csv']\n",
    "\n",
    "# create title lists df\n",
    "title_lists = df.groupby('paddle').apply(get_title_list)\n",
    "title_lists = title_lists.reset_index(name='title_list')\n",
    "\n",
    "# merge the new column with the original DataFrame on the 'paddle' column\n",
    "\n",
    "agg_funcs = {\n",
    "    'invoice': 'first',\n",
    "    'lotid': 'first',\n",
    "    'lotnum': 'first',\n",
    "    'email': 'first',\n",
    "    'paddle': 'first',\n",
    "    'name': 'first',\n",
    "    'cellphone': 'first',\n",
    "    'homephone': 'first',\n",
    "    'workphone': 'first',\n",
    "    'address': 'first',\n",
    "    'city': 'first',\n",
    "    'state': 'first',\n",
    "    'country': 'first',\n",
    "    'zip': 'first',\n",
    "    'invoice_date': 'first',\n",
    "    'auctiondatetime': 'first',\n",
    "    'declaredvalue': 'first',\n",
    "    'customerid': 'first',\n",
    "    'siteid': 'first',\n",
    "    'utm_source': 'first',\n",
    "    'utm_medium': 'first',\n",
    "    'utm_campaign': 'first',\n",
    "    'utm_content': 'first',\n",
    "    'utm_term': 'first'\n",
    "}\n",
    "\n",
    "# group the data by the unique values in the 'email' column, and apply the aggregation functions to each group\n",
    "df_grouped = df.groupby('paddle').agg(agg_funcs)\n",
    "\n",
    "df_grouped = df_grouped.reset_index(drop=True)  # Drop the existing 'paddle' column\n",
    "\n",
    "\n",
    "df_with_title_lists = pd.merge(df_grouped, title_lists, on='paddle')\n",
    "\n",
    "#read in other invoice\n",
    "invoicedf = dfs['invoicesSummaryAll_Auction_59053.csv']\n",
    "\n",
    "icollectorfinal = pd.merge(invoicedf, df_with_title_lists, on='paddle')\n",
    "\n",
    "# final icollector\n",
    "icollectorfinal = icollectorfinal.assign(source='icollector')\n",
    "\n",
    "icollectorfinal.head()"
   ]
  },
  {
   "cell_type": "code",
   "execution_count": null,
   "id": "8fc34e3f",
   "metadata": {},
   "outputs": [],
   "source": [
    "icollectorfinal['title_list'] = icollectorfinal['title_list'].apply(lambda x: str(x).encode())\n"
   ]
  },
  {
   "cell_type": "markdown",
   "id": "b65ee1b5",
   "metadata": {},
   "source": [
    "### Liveauctioneers"
   ]
  },
  {
   "cell_type": "code",
   "execution_count": null,
   "id": "ab77cd81",
   "metadata": {},
   "outputs": [],
   "source": [
    "eoa_dfs = []\n",
    "\n",
    "# loop through the dictionary keys\n",
    "for key in dfs.keys():\n",
    "    # check if the file name starts with 'EOA'\n",
    "    if key.startswith('EOA'):\n",
    "        # create a DataFrame and append it to the list\n",
    "        eoa_dfs.append(dfs[key])\n",
    "\n",
    "# concatenate all the EOA DataFrames into one big DataFrame\n",
    "eoa_combined = pd.concat(eoa_dfs)"
   ]
  },
  {
   "cell_type": "code",
   "execution_count": null,
   "id": "a520e26f",
   "metadata": {},
   "outputs": [],
   "source": [
    "eoa_combined = eoa_combined.drop(['lot_reference_number', 'listing_agent_id', 'listing_agent', 'commission_rate', 'hammer', 'commission', 'processing_fee_3%_of_hammer_', 'sales_tax', 'net_to_pay_listing_agent', 'domestic_flat_shipping', 'paid'], axis=1)\n",
    "\n",
    "eoa_combined.head()\n"
   ]
  },
  {
   "cell_type": "code",
   "execution_count": null,
   "id": "47ac1f0b",
   "metadata": {
    "scrolled": true
   },
   "outputs": [],
   "source": [
    "eoa_combined['sale_price'] = eoa_combined['sale_price'].str.replace('$', '').replace(',', '', regex=True).astype(float)\n",
    "eoa_combined['buyer_premium'] = eoa_combined['buyer_premium'].str.replace('$', '').replace(',', '', regex=True).astype(float)\n",
    "\n",
    "grouped = eoa_combined.groupby('username').agg({'lot_number': list,\n",
    "                                                     'sale_price': 'sum',\n",
    "                                                     'buyer_premium': 'sum',\n",
    "                                                     'first_name': 'first',\n",
    "                                                     'last_name': 'first',\n",
    "                                                     'paddle_number': 'first',\n",
    "                                                     'email': 'first',\n",
    "                                                     'account_phone': 'first',\n",
    "                                                     'shipping_method': 'first',\n",
    "                                                     'shipping_status': 'first',\n",
    "                                                     'ship_to_phone': 'first',\n",
    "                                                     'ship_to_name': 'first',\n",
    "                                                     'ship_to_surname': 'first',\n",
    "                                                     'company': 'first',\n",
    "                                                     'address': 'first',\n",
    "                                                     'city': 'first',\n",
    "                                                     'state': 'first',\n",
    "                                                     'country': 'first',\n",
    "                                                     'postal_code': 'first',\n",
    "                                                     'premium_bidder': 'first'})\n",
    "\n",
    "# Rename the index column\n",
    "grouped = grouped.rename_axis('username').reset_index()\n",
    "\n",
    "# Print the resulting DataFrame\n"
   ]
  },
  {
   "cell_type": "code",
   "execution_count": null,
   "id": "74073afc",
   "metadata": {},
   "outputs": [],
   "source": [
    "la_dfs = []\n",
    "\n",
    "# loop through the dictionary keys\n",
    "for key in dfs.keys():\n",
    "    # check if the file name starts with 'EOA'\n",
    "    if key.endswith('LA.csv'):\n",
    "        # create a DataFrame and append it to the list\n",
    "        la_dfs.append(dfs[key])\n",
    "\n",
    "# concatenate all the EOA DataFrames into one big DataFrame\n",
    "la_combined = pd.concat(la_dfs)"
   ]
  },
  {
   "cell_type": "code",
   "execution_count": null,
   "id": "433337e9",
   "metadata": {},
   "outputs": [],
   "source": [
    "la_combined['item_total'] = la_combined['item_total'].str.replace('$', '').replace(',', '', regex=True).astype(float)\n",
    "la_combined['shipping'] = la_combined['shipping'].str.replace('$', '').replace(',', '', regex=True).astype(float)\n",
    "la_combined['sales_tax'] = la_combined['sales_tax'].astype(str).str.replace('$', '').replace(',', '', regex=True).astype(float)"
   ]
  },
  {
   "cell_type": "code",
   "execution_count": null,
   "id": "44e2f375",
   "metadata": {
    "scrolled": true
   },
   "outputs": [],
   "source": [
    "\n",
    "la_combined['item_total'] = pd.to_numeric(la_combined['item_total'])\n",
    "la_combined['shipping'] = pd.to_numeric(la_combined['shipping'])\n",
    "la_combined['sales_tax'] = pd.to_numeric(la_combined['sales_tax'])\n",
    "\n",
    "la_combined['invoice_total'] = (la_combined['item_total'] + la_combined['shipping'] + la_combined['sales_tax'])\n",
    "\n",
    "la_combined['invoice_total'] = la_combined['invoice_total'].astype(float)\n",
    "\n",
    "agg_df = la_combined.groupby('username').agg({\n",
    "    'item_total': 'sum',\n",
    "    'shipping': 'sum',\n",
    "    'sales_tax': 'sum',\n",
    "    'items': 'sum',\n",
    "    'invoice_total': 'sum',\n",
    "    'invoice_#': 'first',\n",
    "    'invoice_status': 'first',\n",
    "    'hammer_price': 'first',\n",
    "    'premium': 'first',\n",
    "    'bidder_name': 'first',\n",
    "    'state': 'first',\n",
    "    'country': 'first',\n",
    "    'email': 'first',\n",
    "    'paid': 'first',\n",
    "    'shipping_method': 'first',\n",
    "    'shipped': 'first',\n",
    "    'last_payment': 'first',\n",
    "    'last_payment_status': 'first',\n",
    "    'autopay': 'first',\n",
    "    'autopay_attempts': 'first',\n",
    "    'failure_reason': 'first'\n",
    "})\n",
    "\n",
    "\n",
    "agg_df['invoice_total'] = (agg_df['item_total'] + agg_df['shipping'] + agg_df['sales_tax'])\n",
    "\n",
    "agg_df['invoice_total'] = agg_df['invoice_total'].astype(float)\n",
    "\n",
    "merged_df = grouped.merge(agg_df[['invoice_#', 'invoice_total']], on=['username'], how='left')\n",
    "\n",
    "merged_df['source'] ='liveauctioneers'\n",
    "\n",
    "# trying to get the date in there\n",
    "# this needs to be updated or we re-do everything by day\n",
    "merged_df['start_date'] = '1/27/2023'\n",
    "merged_df['end_date'] = '1/29/2023'"
   ]
  },
  {
   "cell_type": "code",
   "execution_count": null,
   "id": "f66328a8",
   "metadata": {},
   "outputs": [],
   "source": [
    "liveauctioneers_final = merged_df"
   ]
  },
  {
   "cell_type": "code",
   "execution_count": null,
   "id": "87a31af0",
   "metadata": {},
   "outputs": [],
   "source": [
    "liveauctioneers_final.rename(columns={'invoice_#': 'invoice_num'}, inplace=True)"
   ]
  },
  {
   "cell_type": "code",
   "execution_count": null,
   "id": "d2af8f8f",
   "metadata": {
    "scrolled": true
   },
   "outputs": [],
   "source": [
    "liveauctioneers_final['lot_number'] = liveauctioneers_final['lot_number'].apply(lambda x: re.sub(r'[^0-9]+', '', str(x)))\n"
   ]
  },
  {
   "cell_type": "code",
   "execution_count": null,
   "id": "b48a94ba",
   "metadata": {},
   "outputs": [],
   "source": [
    "liveauctioneers_final"
   ]
  },
  {
   "cell_type": "markdown",
   "id": "d72f9f15",
   "metadata": {},
   "source": [
    "### ProxiBid"
   ]
  },
  {
   "cell_type": "code",
   "execution_count": null,
   "id": "472a5e0f",
   "metadata": {},
   "outputs": [],
   "source": [
    "p_dfs = []\n",
    "\n",
    "# loop through the dictionary keys\n",
    "for key in dfs.keys():\n",
    "    # check if the file name starts with 'EOA'\n",
    "    if key.startswith('proxibid'):\n",
    "        # create a DataFrame and append it to the list\n",
    "        p_dfs.append(dfs[key])\n",
    "# concatenate all the EOA DataFrames into one big DataFrame\n",
    "p_combo = pd.concat(p_dfs)\n",
    "p_combo.drop(columns=['internet_premium_%'], inplace=True)\n"
   ]
  },
  {
   "cell_type": "code",
   "execution_count": null,
   "id": "c8af0a39",
   "metadata": {
    "scrolled": true
   },
   "outputs": [],
   "source": [
    "p_combo['source'] = 'proxibid'\n"
   ]
  },
  {
   "cell_type": "code",
   "execution_count": null,
   "id": "b8243c0b",
   "metadata": {},
   "outputs": [],
   "source": [
    "p_combo = p_combo.rename(columns={'internet_premium_%': 'internet_premium'})\n",
    "p_combo['invoice_total'] = p_combo['invoice_total'].astype(float)\n",
    "p_combo = p_combo.applymap(lambda x: str(x).replace('/', ''))\n"
   ]
  },
  {
   "cell_type": "code",
   "execution_count": null,
   "id": "9349916e",
   "metadata": {},
   "outputs": [],
   "source": [
    "p_combo['invoice_total'].unique"
   ]
  },
  {
   "cell_type": "code",
   "execution_count": null,
   "id": "27632121",
   "metadata": {
    "scrolled": true
   },
   "outputs": [],
   "source": [
    "pcombo = p_combo\n",
    "# pcombo.drop(columns=['internet_premium'], inplace=True)\n",
    "pcombo.drop(columns=['sales_tax_%'], inplace = True)"
   ]
  },
  {
   "cell_type": "markdown",
   "id": "d2d1cb92",
   "metadata": {},
   "source": [
    "### HiBid"
   ]
  },
  {
   "cell_type": "code",
   "execution_count": null,
   "id": "0762381d",
   "metadata": {},
   "outputs": [],
   "source": [
    "h_dfs = []\n",
    "\n",
    "# loop through the dictionary keys\n",
    "for key in dfs.keys():\n",
    "    # check if the file name starts with 'EOA'\n",
    "    if key.startswith('AUCTION'):\n",
    "        # create a DataFrame and append it to the list\n",
    "        h_dfs.append(dfs[key])\n",
    "# concatenate all the EOA DataFrames into one big DataFrame\n",
    "h_combo = pd.concat(h_dfs)"
   ]
  },
  {
   "cell_type": "code",
   "execution_count": null,
   "id": "3c13eba4",
   "metadata": {},
   "outputs": [],
   "source": [
    "h_combo['source'] = 'hibid'"
   ]
  },
  {
   "cell_type": "code",
   "execution_count": null,
   "id": "c0a2bcfb",
   "metadata": {},
   "outputs": [],
   "source": [
    "hcombo = h_combo"
   ]
  },
  {
   "cell_type": "markdown",
   "id": "c32168b1",
   "metadata": {},
   "source": [
    "## Uploading to GBQ\n",
    "\n",
    "*This is updated to keep my information safe.*"
   ]
  },
  {
   "cell_type": "code",
   "execution_count": null,
   "id": "e14ce8e5",
   "metadata": {},
   "outputs": [],
   "source": [
    "#Set Paths for GBQ\n",
    "service_path = \"my-service-path\"\n",
    "service_file = 'my-key-file' # My Key   \n",
    "gbq_proj_id = 'my-gbq-proj-id' # My GBQ \n",
    "dataset_id = 'my-dataset' #Set to the Wedge\n",
    "\n",
    "#Private Key\n",
    "private_key = service_path + service_file"
   ]
  },
  {
   "cell_type": "code",
   "execution_count": null,
   "id": "137b3399",
   "metadata": {},
   "outputs": [],
   "source": [
    "# Pass in our credentials so that Python has permission to access our project\n",
    "credentials = service_account.Credentials.from_service_account_file(service_path + service_file)"
   ]
  },
  {
   "cell_type": "code",
   "execution_count": null,
   "id": "9e662665",
   "metadata": {},
   "outputs": [],
   "source": [
    "# Establish our connection\n",
    "client = bigquery.Client(credentials = credentials, project=gbq_proj_id)"
   ]
  },
  {
   "cell_type": "code",
   "execution_count": null,
   "id": "1d1fc81e",
   "metadata": {},
   "outputs": [],
   "source": [
    "# hey let's see what is there :\n",
    "for item in client.list_datasets() : \n",
    "    print(item.full_dataset_id)"
   ]
  },
  {
   "cell_type": "code",
   "execution_count": null,
   "id": "cbf954dc",
   "metadata": {},
   "outputs": [],
   "source": [
    "#check to see if there are tables in the dataset \n",
    "tables = client.list_tables(dataset_id)  \n",
    "\n",
    "for table in tables:\n",
    "    if table :\n",
    "        print(table.table_id)"
   ]
  },
  {
   "cell_type": "code",
   "execution_count": null,
   "id": "f0eb7b5b",
   "metadata": {},
   "outputs": [],
   "source": [
    "#Regex to rename files\n",
    "file_pattern = re.compile(r\"(\\D{12})\")"
   ]
  },
  {
   "cell_type": "code",
   "execution_count": null,
   "id": "bef23662",
   "metadata": {},
   "outputs": [],
   "source": [
    "table_name = \"my-table-name\"\n",
    "table_id = \".\".join([gbq_proj_id,dataset_id,table_name])\n",
    "pandas_gbq.to_gbq(table_name, table_id, project_id=gbq_proj_id, if_exists=\"replace\")"
   ]
  },
  {
   "cell_type": "code",
   "execution_count": null,
   "id": "95960575",
   "metadata": {},
   "outputs": [],
   "source": [
    "table_name = \"my-table-name\"\n",
    "table_id = \".\".join([gbq_proj_id,dataset_id,table_name])\n",
    "pandas_gbq.to_gbq(table_name, table_id, project_id=gbq_proj_id, if_exists=\"replace\")"
   ]
  },
  {
   "cell_type": "code",
   "execution_count": null,
   "id": "552fb2f2",
   "metadata": {},
   "outputs": [],
   "source": [
    "table_name = \"my-table-name\"\n",
    "table_id = \".\".join([gbq_proj_id,dataset_id,table_name])\n",
    "pandas_gbq.to_gbq(table_name, table_id, project_id=gbq_proj_id, if_exists=\"replace\")"
   ]
  },
  {
   "cell_type": "code",
   "execution_count": null,
   "id": "a8eb31a2",
   "metadata": {},
   "outputs": [],
   "source": [
    "# for proxibid\n",
    "for col in table_name.columns:\n",
    "    table_name = table_name.astype({f'{col}': 'bytes'})"
   ]
  },
  {
   "cell_type": "code",
   "execution_count": null,
   "id": "24d589bb",
   "metadata": {
    "scrolled": true
   },
   "outputs": [],
   "source": [
    "table_name = \"my-table-name\"\n",
    "table_id = \".\".join([gbq_proj_id,dataset_id,table_name])\n",
    "pandas_gbq.to_gbq(table_name, table_id, project_id=gbq_proj_id, if_exists=\"replace\")"
   ]
  },
  {
   "cell_type": "code",
   "execution_count": null,
   "id": "986f874b",
   "metadata": {},
   "outputs": [],
   "source": [
    "table_name = \"my-table-name\"\n",
    "table_id = \".\".join([gbq_proj_id,dataset_id,table_name])\n",
    "pandas_gbq.to_gbq(table_name, table_id, project_id=gbq_proj_id, if_exists=\"replace\")"
   ]
  }
 ],
 "metadata": {
  "kernelspec": {
   "display_name": "Python 3 (ipykernel)",
   "language": "python",
   "name": "python3"
  },
  "language_info": {
   "codemirror_mode": {
    "name": "ipython",
    "version": 3
   },
   "file_extension": ".py",
   "mimetype": "text/x-python",
   "name": "python",
   "nbconvert_exporter": "python",
   "pygments_lexer": "ipython3",
   "version": "3.9.13"
  }
 },
 "nbformat": 4,
 "nbformat_minor": 5
}
